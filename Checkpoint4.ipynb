{
 "cells": [
  {
   "cell_type": "markdown",
   "id": "c1eef359",
   "metadata": {},
   "source": [
    "# Question 1"
   ]
  },
  {
   "cell_type": "markdown",
   "id": "7197a9c3",
   "metadata": {},
   "source": [
    "Écrivez une fonction Python pour trouver le plus grand (max) de trois nombres.\n",
    "\n",
    "Par exemple, le maximum de ces trois nombres (20, 35, 19) est 35 ."
   ]
  },
  {
   "cell_type": "code",
   "execution_count": 9,
   "id": "0cf0e906",
   "metadata": {},
   "outputs": [
    {
     "name": "stdout",
     "output_type": "stream",
     "text": [
      "mettez les valeurs separe par des virgules 55\n"
     ]
    },
    {
     "data": {
      "text/plain": [
       "55"
      ]
     },
     "execution_count": 9,
     "metadata": {},
     "output_type": "execute_result"
    }
   ],
   "source": [
    "\n",
    "def maximum ():\n",
    "    a = [int(a) for a in input(\"mettez les valeurs separe par des virgules \").split(\",\")]\n",
    "    \n",
    "    #b = int(input(\"mettez la valeur de b \"))\n",
    "    #c = int(input(\"mettez la valeur de c \"))\n",
    "\n",
    "    return max (a) \n",
    "maximum()\n"
   ]
  },
  {
   "cell_type": "markdown",
   "id": "4e4124b9",
   "metadata": {},
   "source": [
    "# Question 2"
   ]
  },
  {
   "cell_type": "markdown",
   "id": "7b34e3b0",
   "metadata": {},
   "source": [
    "Écrivez une fonction calcul() afin qu'elle puisse accepter deux variables et en calculer l'addition et la soustraction. Il doit renvoyer à la fois l'addition et la soustraction en un seul appel de retour.\n",
    "\n",
    "Par exemple:\n",
    "\n",
    "calcul(40, 10) devrait produire 50, 30"
   ]
  },
  {
   "cell_type": "code",
   "execution_count": 8,
   "id": "f9023160",
   "metadata": {},
   "outputs": [
    {
     "name": "stdout",
     "output_type": "stream",
     "text": [
      "mettez la valeur de c 40\n",
      "mettez la valeur de b 10\n"
     ]
    },
    {
     "data": {
      "text/plain": [
       "(50, 30)"
      ]
     },
     "execution_count": 8,
     "metadata": {},
     "output_type": "execute_result"
    }
   ],
   "source": [
    "def calcul ():\n",
    "    a = int(input(\"mettez la valeur de c \"))\n",
    "    b = int(input(\"mettez la valeur de b \"))\n",
    "    return ((a+b),(a-b))\n",
    "calcul ()"
   ]
  },
  {
   "cell_type": "markdown",
   "id": "e3e70e14",
   "metadata": {},
   "source": [
    "# Question 3"
   ]
  },
  {
   "cell_type": "markdown",
   "id": "8248dfac",
   "metadata": {},
   "source": [
    "Écrivez une fonction qui additionne les éléments d'une liste d'entiers.\n",
    "Écrivez une fonction qui multiplie les éléments d'une liste d'entiers.\n",
    "Utilisez les deux fonctions pour additionner les éléments dont la position est un nombre pair (0,2,4…) et multiplier le reste.\n",
    "Indice : Envisagez d'extraire deux listes d'une première liste."
   ]
  },
  {
   "cell_type": "code",
   "execution_count": 64,
   "id": "7d83825a",
   "metadata": {},
   "outputs": [],
   "source": [
    "def addition (l):\n",
    "    #a = [int(a) for a in input(\"mettez les valeurs separe par des virgules \").split(\",\")]\n",
    "    return sum(l)\n",
    "def multiplication (l):\n",
    "    #a = [int(a) for a in input(\"mettez les valeurs separe par des virgules \").split(\",\")]\n",
    "    b = 1\n",
    "    for x in l: \n",
    "        b = b * x  \n",
    "    return b \n",
    "\n",
    "#a = [int(a) for a in input(\"mettez les valeurs separe par des virgules \").split(\",\")]\n",
    "def additionmultplication (mylist):\n",
    "    pair = []\n",
    "    impair = []\n",
    "    for i in range (len(mylist)):\n",
    "        if i%2==0:\n",
    "            pair.append(mylist[i])\n",
    "        else :\n",
    "            impair.append(mylist[i])\n",
    "    return (addition (pair),multiplication (impair))"
   ]
  },
  {
   "cell_type": "markdown",
   "id": "e09a2015",
   "metadata": {},
   "source": [
    "# Question 4"
   ]
  },
  {
   "cell_type": "markdown",
   "id": "99256835",
   "metadata": {},
   "source": [
    "écrire une fonction qui affiche la première lettre de la valeur du dictionnaire en majuscule en utilisant l'instruction return."
   ]
  },
  {
   "cell_type": "code",
   "execution_count": 72,
   "id": "9fb97cf1",
   "metadata": {},
   "outputs": [
    {
     "name": "stdout",
     "output_type": "stream",
     "text": [
      "R\n"
     ]
    }
   ],
   "source": [
    "http://localhost:8888/notebooks/Desktop/GOMYCODE/Checkpoint4.ipynb#Question-6def premiere_lettre(dictionnaire):\n",
    "  premiere_lettre = list(dictionnaire.values())[0][0]\n",
    "  return premiere_lettre.upper()\n",
    "\n",
    "print(premiere_lettre({\"nom\": \"rokhaya\"})) # J\n",
    "    "
   ]
  },
  {
   "cell_type": "markdown",
   "id": "28bec3f7",
   "metadata": {},
   "source": [
    "# Question 5"
   ]
  },
  {
   "cell_type": "markdown",
   "id": "0e631166",
   "metadata": {},
   "source": [
    "écrire une fonction qui renvoie le plus grand mot du dictionnaire."
   ]
  },
  {
   "cell_type": "code",
   "execution_count": 87,
   "id": "ecb42c7e",
   "metadata": {},
   "outputs": [
    {
     "name": "stdout",
     "output_type": "stream",
     "text": [
      "rokhaya\n"
     ]
    }
   ],
   "source": [
    "def largest_word(dictionnaire):\n",
    "    largest = \"\"\n",
    "    for word in dictionnaire:\n",
    "        if len(word) > len(largest):\n",
    "            largest = word\n",
    "    return largest\n",
    "dictionnaire = [\"loll\", \"mommmm\", \"rokhaya\"]\n",
    "print(largest_word(dictionnaire)) "
   ]
  },
  {
   "cell_type": "markdown",
   "id": "d20356d2",
   "metadata": {},
   "source": [
    "# Question 6"
   ]
  },
  {
   "cell_type": "raw",
   "id": "25082b1b",
   "metadata": {},
   "source": [
    "# Écrivez un programme Python qui accepte une séquence de mots séparés par des tirets en entrée et imprime les mots dans une séquence séparée par des tirets après les avoir triés par ordre alphabétique.\n",
    "\n",
    "Exemples d'articles : vert-rouge-jaune-noir-blanc\n",
    "\n",
    "Résultat attendu : noir-vert-rouge-blanc-jaune\n",
    "\n",
    "Astuce : Il existe une fonction de division pour séparer votre chaîne d'entrée en mots et une fonction de tri pour trier."
   ]
  },
  {
   "cell_type": "code",
   "execution_count": 80,
   "id": "fbf07eed",
   "metadata": {},
   "outputs": [
    {
     "name": "stdout",
     "output_type": "stream",
     "text": [
      "Veuillez entrer une séquence de mots séparés par des tirets :coucou-Rokhaya\n",
      "Rokhaya-coucou\n"
     ]
    }
   ],
   "source": [
    "chaine_entree = input(\"Veuillez entrer une séquence de mots séparés par des tirets :\")\n",
    "mots = chaine_entree.split(\"-\")\n",
    "mots.sort()\n",
    "chaine_sortie = \"-\".join(mots)\n",
    "print(chaine_sortie)"
   ]
  },
  {
   "cell_type": "markdown",
   "id": "5ce03a1f",
   "metadata": {},
   "source": [
    "# Question 7"
   ]
  },
  {
   "cell_type": "markdown",
   "id": "bed14bbd",
   "metadata": {},
   "source": [
    "Écrivez une fonction qui calcule et imprime la valeur selon la formule donnée : Q = racine carrée de [(2 * C * D)/H]. Voici les valeurs fixes de C et H : C est 50 et H est 30. D est la variable dont les valeurs doivent être entrées dans votre programme dans une séquence séparée par des virgules. Exemple : Supposons que la séquence d'entrées séparées par des virgules suivante soit donnée à la fonction : 100,150,180. \n",
    "\n",
    "Résultat attendu : 18,22,24 \n",
    "\n",
    "Conseils : Si la sortie reçue est sous forme décimale, elle doit être arrondie à sa valeur la plus proche. Par exemple, si la sortie reçue est 26.0, elle doit être imprimée sous la forme 26. Dans le cas où des données d'entrée sont fournies à la question, il faut supposer qu'il s'agit d'une entrée de console. "
   ]
  },
  {
   "cell_type": "code",
   "execution_count": null,
   "id": "79dda967",
   "metadata": {},
   "outputs": [],
   "source": [
    "import math\n",
    "def calculerQ (D): \n",
    "  Q = math.sqrt((2 * 50 * D) / 30) \n",
    "  return round(Q) \n",
    "D = [input(D) for D in input(\"Entrez une séquence séparée par des virgules : \").split(\",\")]  \n",
    "for i in D: \n",
    "  resultat = calculerQ(int(i)) \n",
    "  print(resultat)"
   ]
  }
 ],
 "metadata": {
  "kernelspec": {
   "display_name": "Python 3 (ipykernel)",
   "language": "python",
   "name": "python3"
  },
  "language_info": {
   "codemirror_mode": {
    "name": "ipython",
    "version": 3
   },
   "file_extension": ".py",
   "mimetype": "text/x-python",
   "name": "python",
   "nbconvert_exporter": "python",
   "pygments_lexer": "ipython3",
   "version": "3.9.13"
  }
 },
 "nbformat": 4,
 "nbformat_minor": 5
}
